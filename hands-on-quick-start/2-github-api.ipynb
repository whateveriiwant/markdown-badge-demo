{
 "cells": [
  {
   "cell_type": "markdown",
   "metadata": {},
   "source": [
    "GitHub API를 사용해봅니다"
   ]
  },
  {
   "cell_type": "markdown",
   "metadata": {},
   "source": [
    "https://docs.github.com/ko/free-pro-team@latest/rest/repos/repos?apiVersion=2022-11-28#list-repositories-for-a-user"
   ]
  },
  {
   "cell_type": "code",
   "execution_count": 3,
   "metadata": {},
   "outputs": [
    {
     "ename": "ModuleNotFoundError",
     "evalue": "No module named 'requests'",
     "output_type": "error",
     "traceback": [
      "\u001b[0;31m---------------------------------------------------------------------------\u001b[0m",
      "\u001b[0;31mModuleNotFoundError\u001b[0m                       Traceback (most recent call last)",
      "\u001b[1;32m/workspaces/markdown-badge-demo/hands-on-quick-start/2-github-api.ipynb 셀 3\u001b[0m line \u001b[0;36m1\n\u001b[0;32m----> <a href='vscode-notebook-cell://codespaces%2Bfriendly-giggle-7xxwrv79rrrhp56/workspaces/markdown-badge-demo/hands-on-quick-start/2-github-api.ipynb#W2sdnNjb2RlLXJlbW90ZQ%3D%3D?line=0'>1</a>\u001b[0m \u001b[39mimport\u001b[39;00m \u001b[39mrequests\u001b[39;00m\n\u001b[1;32m      <a href='vscode-notebook-cell://codespaces%2Bfriendly-giggle-7xxwrv79rrrhp56/workspaces/markdown-badge-demo/hands-on-quick-start/2-github-api.ipynb#W2sdnNjb2RlLXJlbW90ZQ%3D%3D?line=3'>4</a>\u001b[0m \u001b[39mdef\u001b[39;00m \u001b[39mfetch_user_repos\u001b[39m(name):\n\u001b[1;32m      <a href='vscode-notebook-cell://codespaces%2Bfriendly-giggle-7xxwrv79rrrhp56/workspaces/markdown-badge-demo/hands-on-quick-start/2-github-api.ipynb#W2sdnNjb2RlLXJlbW90ZQ%3D%3D?line=4'>5</a>\u001b[0m     url \u001b[39m=\u001b[39m \u001b[39m\"\u001b[39m\u001b[39mhttps://api.github.com/users/\u001b[39m\u001b[39m{}\u001b[39;00m\u001b[39m/repos?sort=pushed&direction=desc&type=owner\u001b[39m\u001b[39m\"\u001b[39m\u001b[39m.\u001b[39mformat(name)\n",
      "\u001b[0;31mModuleNotFoundError\u001b[0m: No module named 'requests'"
     ]
    }
   ],
   "source": [
    "import requests\n",
    "\n",
    "\n",
    "def fetch_user_repos(name):\n",
    "    url = \"https://api.github.com/users/{}/repos?sort=pushed&direction=desc&type=owner\".format(name)\n",
    "\n",
    "    response = requests.get(url)\n",
    "    return response.json()"
   ]
  },
  {
   "cell_type": "code",
   "execution_count": 2,
   "metadata": {},
   "outputs": [
    {
     "ename": "NameError",
     "evalue": "name 'fetch_user_repos' is not defined",
     "output_type": "error",
     "traceback": [
      "\u001b[0;31m---------------------------------------------------------------------------\u001b[0m",
      "\u001b[0;31mNameError\u001b[0m                                 Traceback (most recent call last)",
      "\u001b[1;32m/workspaces/markdown-badge-demo/hands-on-quick-start/2-github-api.ipynb 셀 4\u001b[0m line \u001b[0;36m4\n\u001b[1;32m      <a href='vscode-notebook-cell://codespaces%2Bfriendly-giggle-7xxwrv79rrrhp56/workspaces/markdown-badge-demo/hands-on-quick-start/2-github-api.ipynb#W3sdnNjb2RlLXJlbW90ZQ%3D%3D?line=0'>1</a>\u001b[0m username \u001b[39m=\u001b[39m \u001b[39m\"\u001b[39m\u001b[39mwhateveriiwant\u001b[39m\u001b[39m\"\u001b[39m\n\u001b[1;32m      <a href='vscode-notebook-cell://codespaces%2Bfriendly-giggle-7xxwrv79rrrhp56/workspaces/markdown-badge-demo/hands-on-quick-start/2-github-api.ipynb#W3sdnNjb2RlLXJlbW90ZQ%3D%3D?line=1'>2</a>\u001b[0m \u001b[39m# username = \"Azure\"\u001b[39;00m\n\u001b[0;32m----> <a href='vscode-notebook-cell://codespaces%2Bfriendly-giggle-7xxwrv79rrrhp56/workspaces/markdown-badge-demo/hands-on-quick-start/2-github-api.ipynb#W3sdnNjb2RlLXJlbW90ZQ%3D%3D?line=3'>4</a>\u001b[0m result \u001b[39m=\u001b[39m fetch_user_repos(username)\n\u001b[1;32m      <a href='vscode-notebook-cell://codespaces%2Bfriendly-giggle-7xxwrv79rrrhp56/workspaces/markdown-badge-demo/hands-on-quick-start/2-github-api.ipynb#W3sdnNjb2RlLXJlbW90ZQ%3D%3D?line=4'>5</a>\u001b[0m \u001b[39mprint\u001b[39m(result)\n",
      "\u001b[0;31mNameError\u001b[0m: name 'fetch_user_repos' is not defined"
     ]
    }
   ],
   "source": [
    "username = \"whateveriiwant\"\n",
    "# username = \"Azure\"\n",
    "\n",
    "result = fetch_user_repos(username)\n",
    "print(result)"
   ]
  },
  {
   "cell_type": "code",
   "execution_count": null,
   "metadata": {},
   "outputs": [],
   "source": [
    "print(result[1])\n",
    "repo = result[1]"
   ]
  },
  {
   "cell_type": "code",
   "execution_count": null,
   "metadata": {},
   "outputs": [],
   "source": [
    "print(repo['language'])"
   ]
  },
  {
   "cell_type": "markdown",
   "metadata": {},
   "source": [
    "이제 GitHub Apps를 이용해봅니다. \n",
    "https://github.com/settings/apps"
   ]
  },
  {
   "cell_type": "markdown",
   "metadata": {},
   "source": []
  }
 ],
 "metadata": {
  "kernelspec": {
   "display_name": "Python 3",
   "language": "python",
   "name": "python3"
  },
  "language_info": {
   "codemirror_mode": {
    "name": "ipython",
    "version": 3
   },
   "file_extension": ".py",
   "mimetype": "text/x-python",
   "name": "python",
   "nbconvert_exporter": "python",
   "pygments_lexer": "ipython3",
   "version": "3.11.6"
  }
 },
 "nbformat": 4,
 "nbformat_minor": 2
}
